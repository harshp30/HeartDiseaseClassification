{
 "cells": [
  {
   "cell_type": "markdown",
   "id": "06e3ee46",
   "metadata": {},
   "source": [
    "# Predicting Heart Disease \n",
    "\n",
    "**Project Objective:** In this project I want to practice my data science / machine learning skills on a classification problem using varioud tools such as Pandas, NumPy, Matplotlib, and Scikit-Learn. \n",
    "\n",
    "**Project Goal:** This will be a successful project if I am able to go through and clearly explain the steps of a typical machine learning pipeline that will be applied to the dataset. \n",
    "\n",
    "I a going to follow this machine learning pipeline:\n",
    "\n",
    "Preparation:\n",
    "\n",
    "1. Problem definition\n",
    "2. Data Overview\n",
    "3. Evaluation Grading\n",
    "4. Features List\n",
    "\n",
    "Data Manipulation & Modelling\n",
    "\n",
    "1. Preparing the Tools\n",
    "2. Data Exploration\n",
    "3. Modelling\n",
    "4. Hyperparameter tuning\n",
    "5. Evalualting\n",
    "6. Feature Importance\n",
    "\n",
    "Summary"
   ]
  },
  {
   "cell_type": "markdown",
   "id": "43641354",
   "metadata": {},
   "source": [
    "# Preparation"
   ]
  },
  {
   "cell_type": "markdown",
   "id": "db75dd80",
   "metadata": {},
   "source": [
    "## 1. Problem Definition:\n",
    "\n",
    "> Given certain clinical parameters, can we predict whether or not the patient has heart disease?"
   ]
  },
  {
   "cell_type": "markdown",
   "id": "3c71c7b1",
   "metadata": {},
   "source": [
    "## 2. Data Overview:\n",
    "\n",
    "The original data came from the Cleavland data from the UCI Machine Learning Repository:\n",
    "https://archive.ics.uci.edu/ml/datasets/heart+Disease\n",
    "    \n",
    "**I have modified the dataset to have some missing values, for two reasons...**\n",
    "1. I want to work with a more realistic dataset, even though this is a medical one, typically real-world datasets have some form of a missing value.\n",
    "2. With a fully complete dataset I would not be able to showcase/practice my dataset maniuplation skills."
   ]
  },
  {
   "cell_type": "markdown",
   "id": "a70725ba",
   "metadata": {},
   "source": [
    "## 3. Evaluation Grading\n",
    "\n",
    "> If the model has an accuracy score of **greatar then 85%** I will consider this is a successful project. Typically for medical-related datasets the accuracy should be much higher , but since my project is focused on the process more then the results I will accept a >85% score. It will also be interesting to see how much artifically removing data affects the score."
   ]
  },
  {
   "cell_type": "markdown",
   "id": "86d83ae5",
   "metadata": {},
   "source": [
    "## 4. Features List\n",
    "\n",
    "For this dataset Kaggle provides a data dictonary explaining what each of the columns in the dataset does. In a typically scenario I would have to do research myself to gather this information, but since it's already provided I will use this.\n",
    "\n",
    "**Data Dictionary**\n",
    "\n",
    "1. age - age in years\n",
    "2. sex - (1 = male; 0 = female)\n",
    "3. cp - chest pain type\n",
    "    * 0: Typical angina: chest pain related decrease blood supply to the heart\n",
    "    * 1: Atypical angina: chest pain not related to heart\n",
    "    * 2: Non-anginal pain: typically esophageal spasms (non heart related)\n",
    "    * 3: Asymptomatic: chest pain not showing signs of disease\n",
    "4. trestbps - resting blood pressure (in mm Hg on admission to the hospital) anything above 130-140 is typically cause for concern\n",
    "5. chol - serum cholestoral in mg/dl\n",
    "    * serum = LDL + HDL + .2 * triglycerides\n",
    "    * above 200 is cause for concern\n",
    "6. fbs - (fasting blood sugar > 120 mg/dl) (1 = true; 0 = false)\n",
    "    * '>126' mg/dL signals diabetes\n",
    "7. restecg - resting electrocardiographic results\n",
    "    * 0: Nothing to note\n",
    "    * 1: ST-T Wave abnormality\n",
    "        * can range from mild symptoms to severe problems\n",
    "        * signals non-normal heart beat\n",
    "    * 2: Possible or definite left ventricular hypertrophy\n",
    "        * Enlarged heart's main pumping chamber\n",
    "8. thalach - maximum heart rate achieved\n",
    "9. exang - exercise induced angina (1 = yes; 0 = no)\n",
    "10. oldpeak - ST depression induced by exercise relative to rest looks at stress of heart during excercise unhealthy heart will stress more\n",
    "11. slope - the slope of the peak exercise ST segment\n",
    "    * 0: Upsloping: better heart rate with excercise (uncommon)\n",
    "    * 1: Flatsloping: minimal change (typical healthy heart)\n",
    "    * 2: Downslopins: signs of unhealthy heart\n",
    "12. ca - number of major vessels (0-3) colored by flourosopy\n",
    "    * colored vessel means the doctor can see the blood passing through\n",
    "    * the more blood movement the better (no clots)\n",
    "13. thal - thalium stress result\n",
    "    * 1,3: normal\n",
    "    * 6: fixed defect: used to be defect but ok now\n",
    "    * 7: reversable defect: no proper blood movement when excercising\n",
    "14. target - have disease or not (1=yes, 0=no) (= the predicted attribute)"
   ]
  },
  {
   "cell_type": "markdown",
   "id": "5655f544",
   "metadata": {},
   "source": [
    "**Everything above is just preparation to actually begin the data science and machine learning portion of the project**\n"
   ]
  },
  {
   "cell_type": "markdown",
   "id": "5a41e8bc",
   "metadata": {},
   "source": [
    "# Data Manipulation & Modelling"
   ]
  },
  {
   "cell_type": "markdown",
   "id": "18fa0505",
   "metadata": {},
   "source": [
    "## 1. Preparing the Tools\n",
    "\n",
    "I am going to import Pandas, NumPy, Matplotlib, and Seaborn for data manipulation.\n",
    "\n",
    "I am going to import Scikit-Learn and a few select models for evaluating and modelling."
   ]
  },
  {
   "cell_type": "code",
   "execution_count": 70,
   "id": "bd91abf2",
   "metadata": {},
   "outputs": [],
   "source": [
    "# For Data Manipulation and Exploration\n",
    "import numpy as np\n",
    "import pandas as pd\n",
    "import matplotlib.pyplot as plt\n",
    "import seaborn as sns\n",
    "%matplotlib inline\n",
    "\n",
    "# For Model Evaluation\n",
    "from sklearn.model_selection import train_test_split, cross_val_score\n",
    "from sklearn.model_selection import RandomizedSearchCV, GridSearchCV\n",
    "from sklearn.metrics import confusion_matrix, classification_report\n",
    "from sklearn.metrics import precision_score, recall_score, f1_score\n",
    "from sklearn.metrics import plot_roc_curve\n",
    "\n",
    "# Choosen Models from Scikit-Learn\n",
    "from sklearn.linear_model import LogisticRegression\n",
    "from sklearn.neighbors import KNeighborsClassifier\n",
    "from sklearn.linear_model import SGDClassifier\n",
    "from sklearn import svm\n",
    "from sklearn.ensemble import RandomForestClassifier\n",
    "from sklearn.ensemble import GradientBoostingClassifier"
   ]
  },
  {
   "cell_type": "markdown",
   "id": "a27f234c",
   "metadata": {},
   "source": [
    "## 2. Data Exploration\n",
    "\n",
    "Here I will be loading the data into a Pandas DataFrame, exploring it's content to build understanding, dealing with missing values, and getting it ready for modelling."
   ]
  },
  {
   "cell_type": "code",
   "execution_count": 71,
   "id": "adf4be35",
   "metadata": {},
   "outputs": [
    {
     "data": {
      "text/html": [
       "<div>\n",
       "<style scoped>\n",
       "    .dataframe tbody tr th:only-of-type {\n",
       "        vertical-align: middle;\n",
       "    }\n",
       "\n",
       "    .dataframe tbody tr th {\n",
       "        vertical-align: top;\n",
       "    }\n",
       "\n",
       "    .dataframe thead th {\n",
       "        text-align: right;\n",
       "    }\n",
       "</style>\n",
       "<table border=\"1\" class=\"dataframe\">\n",
       "  <thead>\n",
       "    <tr style=\"text-align: right;\">\n",
       "      <th></th>\n",
       "      <th>age</th>\n",
       "      <th>sex</th>\n",
       "      <th>cp</th>\n",
       "      <th>trestbps</th>\n",
       "      <th>chol</th>\n",
       "      <th>fbs</th>\n",
       "      <th>restecg</th>\n",
       "      <th>thalach</th>\n",
       "      <th>exang</th>\n",
       "      <th>oldpeak</th>\n",
       "      <th>slope</th>\n",
       "      <th>ca</th>\n",
       "      <th>thal</th>\n",
       "      <th>target</th>\n",
       "    </tr>\n",
       "  </thead>\n",
       "  <tbody>\n",
       "    <tr>\n",
       "      <th>0</th>\n",
       "      <td>63.0</td>\n",
       "      <td>1.0</td>\n",
       "      <td>3</td>\n",
       "      <td>145.0</td>\n",
       "      <td>233.0</td>\n",
       "      <td>1</td>\n",
       "      <td>0</td>\n",
       "      <td>150.0</td>\n",
       "      <td>0</td>\n",
       "      <td>2.3</td>\n",
       "      <td>0</td>\n",
       "      <td>0</td>\n",
       "      <td>1</td>\n",
       "      <td>1.0</td>\n",
       "    </tr>\n",
       "    <tr>\n",
       "      <th>1</th>\n",
       "      <td>37.0</td>\n",
       "      <td>1.0</td>\n",
       "      <td>2</td>\n",
       "      <td>130.0</td>\n",
       "      <td>250.0</td>\n",
       "      <td>0</td>\n",
       "      <td>1</td>\n",
       "      <td>187.0</td>\n",
       "      <td>0</td>\n",
       "      <td>3.5</td>\n",
       "      <td>0</td>\n",
       "      <td>0</td>\n",
       "      <td>2</td>\n",
       "      <td>1.0</td>\n",
       "    </tr>\n",
       "    <tr>\n",
       "      <th>2</th>\n",
       "      <td>41.0</td>\n",
       "      <td>0.0</td>\n",
       "      <td>1</td>\n",
       "      <td>NaN</td>\n",
       "      <td>204.0</td>\n",
       "      <td>0</td>\n",
       "      <td>0</td>\n",
       "      <td>172.0</td>\n",
       "      <td>0</td>\n",
       "      <td>1.4</td>\n",
       "      <td>2</td>\n",
       "      <td>0</td>\n",
       "      <td>2</td>\n",
       "      <td>1.0</td>\n",
       "    </tr>\n",
       "    <tr>\n",
       "      <th>3</th>\n",
       "      <td>56.0</td>\n",
       "      <td>1.0</td>\n",
       "      <td>1</td>\n",
       "      <td>120.0</td>\n",
       "      <td>236.0</td>\n",
       "      <td>0</td>\n",
       "      <td>1</td>\n",
       "      <td>178.0</td>\n",
       "      <td>0</td>\n",
       "      <td>0.8</td>\n",
       "      <td>2</td>\n",
       "      <td>0</td>\n",
       "      <td>2</td>\n",
       "      <td>1.0</td>\n",
       "    </tr>\n",
       "    <tr>\n",
       "      <th>4</th>\n",
       "      <td>57.0</td>\n",
       "      <td>NaN</td>\n",
       "      <td>0</td>\n",
       "      <td>120.0</td>\n",
       "      <td>354.0</td>\n",
       "      <td>0</td>\n",
       "      <td>1</td>\n",
       "      <td>163.0</td>\n",
       "      <td>1</td>\n",
       "      <td>0.6</td>\n",
       "      <td>2</td>\n",
       "      <td>0</td>\n",
       "      <td>2</td>\n",
       "      <td>1.0</td>\n",
       "    </tr>\n",
       "  </tbody>\n",
       "</table>\n",
       "</div>"
      ],
      "text/plain": [
       "    age  sex  cp  trestbps   chol  fbs  restecg  thalach  exang  oldpeak  \\\n",
       "0  63.0  1.0   3     145.0  233.0    1        0    150.0      0      2.3   \n",
       "1  37.0  1.0   2     130.0  250.0    0        1    187.0      0      3.5   \n",
       "2  41.0  0.0   1       NaN  204.0    0        0    172.0      0      1.4   \n",
       "3  56.0  1.0   1     120.0  236.0    0        1    178.0      0      0.8   \n",
       "4  57.0  NaN   0     120.0  354.0    0        1    163.0      1      0.6   \n",
       "\n",
       "   slope  ca  thal  target  \n",
       "0      0   0     1     1.0  \n",
       "1      0   0     2     1.0  \n",
       "2      2   0     2     1.0  \n",
       "3      2   0     2     1.0  \n",
       "4      2   0     2     1.0  "
      ]
     },
     "execution_count": 71,
     "metadata": {},
     "output_type": "execute_result"
    }
   ],
   "source": [
    "# Load dataset into a dataframe\n",
    "df = pd.read_csv(\"data/heart-disease.csv\")\n",
    "df.head()"
   ]
  },
  {
   "cell_type": "code",
   "execution_count": 72,
   "id": "6b4fa553",
   "metadata": {},
   "outputs": [
    {
     "data": {
      "text/plain": [
       "(303, 14)"
      ]
     },
     "execution_count": 72,
     "metadata": {},
     "output_type": "execute_result"
    }
   ],
   "source": [
    "# Table is 303 rows x 14 columns\n",
    "df.shape"
   ]
  },
  {
   "cell_type": "code",
   "execution_count": 73,
   "id": "b7db6949",
   "metadata": {},
   "outputs": [
    {
     "data": {
      "text/plain": [
       "1.0    163\n",
       "0.0    135\n",
       "Name: target, dtype: int64"
      ]
     },
     "execution_count": 73,
     "metadata": {},
     "output_type": "execute_result"
    }
   ],
   "source": [
    "# We have a total of 303 patient examples... \n",
    "# 160 of which have heart diease and 135 don't have heart disease.\n",
    "df[\"target\"].value_counts()"
   ]
  },
  {
   "cell_type": "code",
   "execution_count": 74,
   "id": "577f237f",
   "metadata": {},
   "outputs": [
    {
     "data": {
      "text/plain": [
       "age         2\n",
       "sex         2\n",
       "cp          0\n",
       "trestbps    2\n",
       "chol        2\n",
       "fbs         0\n",
       "restecg     0\n",
       "thalach     3\n",
       "exang       0\n",
       "oldpeak     0\n",
       "slope       0\n",
       "ca          0\n",
       "thal        0\n",
       "target      5\n",
       "dtype: int64"
      ]
     },
     "execution_count": 74,
     "metadata": {},
     "output_type": "execute_result"
    }
   ],
   "source": [
    "# from the cell above, if you look closer 160 + 135 ≠ 303\n",
    "# This is an indication of missing values.\n",
    "# Check for missing values\n",
    "df.isna().sum()"
   ]
  },
  {
   "cell_type": "code",
   "execution_count": 75,
   "id": "86ecd9ba",
   "metadata": {},
   "outputs": [
    {
     "name": "stdout",
     "output_type": "stream",
     "text": [
      "<class 'pandas.core.frame.DataFrame'>\n",
      "RangeIndex: 303 entries, 0 to 302\n",
      "Data columns (total 14 columns):\n",
      " #   Column    Non-Null Count  Dtype  \n",
      "---  ------    --------------  -----  \n",
      " 0   age       301 non-null    float64\n",
      " 1   sex       301 non-null    float64\n",
      " 2   cp        303 non-null    int64  \n",
      " 3   trestbps  301 non-null    float64\n",
      " 4   chol      301 non-null    float64\n",
      " 5   fbs       303 non-null    int64  \n",
      " 6   restecg   303 non-null    int64  \n",
      " 7   thalach   300 non-null    float64\n",
      " 8   exang     303 non-null    int64  \n",
      " 9   oldpeak   303 non-null    float64\n",
      " 10  slope     303 non-null    int64  \n",
      " 11  ca        303 non-null    int64  \n",
      " 12  thal      303 non-null    int64  \n",
      " 13  target    298 non-null    float64\n",
      "dtypes: float64(7), int64(7)\n",
      "memory usage: 33.3 KB\n"
     ]
    }
   ],
   "source": [
    "# I am also going to check for datatypes right away so we know what we are working with.\n",
    "df.info()"
   ]
  },
  {
   "cell_type": "markdown",
   "id": "818781ea",
   "metadata": {},
   "source": [
    "We are fully working with numbers which is good because it allows us to deal with missing values in a easier way\n",
    "First we will remove all rows that have a **missing target column**, since that is the target (what we are training our model to predict)."
   ]
  },
  {
   "cell_type": "code",
   "execution_count": 76,
   "id": "1dee6794",
   "metadata": {},
   "outputs": [
    {
     "data": {
      "text/plain": [
       "age         1\n",
       "sex         2\n",
       "cp          0\n",
       "trestbps    2\n",
       "chol        2\n",
       "fbs         0\n",
       "restecg     0\n",
       "thalach     2\n",
       "exang       0\n",
       "oldpeak     0\n",
       "slope       0\n",
       "ca          0\n",
       "thal        0\n",
       "target      0\n",
       "dtype: int64"
      ]
     },
     "execution_count": 76,
     "metadata": {},
     "output_type": "execute_result"
    }
   ],
   "source": [
    "# Drop rows with missing target columns and check missing values\n",
    "df = df.dropna(axis=0, subset=['target'])\n",
    "df.isna().sum()"
   ]
  },
  {
   "cell_type": "code",
   "execution_count": 77,
   "id": "10556872",
   "metadata": {},
   "outputs": [
    {
     "data": {
      "text/plain": [
       "(298, 14)"
      ]
     },
     "execution_count": 77,
     "metadata": {},
     "output_type": "execute_result"
    }
   ],
   "source": [
    "# The columns without a target value have been successfully removed. We can double check by looking at the shape\n",
    "# Now we should only have 295 rows\n",
    "df.shape"
   ]
  },
  {
   "cell_type": "markdown",
   "id": "e3e0729b",
   "metadata": {},
   "source": [
    "**We will now deal with the other columns with missing values**\n",
    "- For `age` we can calculate the mean age and assign it to the missing values.\n",
    "- For the `sex` column we can most likely drop that row since it's tough to predict or get a meaningful average out of those numbers.\n",
    "- For `trestbps` we can calculate the mean trestbps and assign it to the missing values.\n",
    "- For `chol` we can calculate the mean chol and assign it to the missing values.\n",
    "- For `thalach` we can calculate the mean thalach and assign it to the missing values.\n",
    "\n",
    "**Keep in mind the more rows we remove he worse our model will perform due to lack of data, I am referring back to the data dictionary to decide if we should remove or use the mean**"
   ]
  },
  {
   "cell_type": "code",
   "execution_count": 78,
   "id": "5c2a1900",
   "metadata": {},
   "outputs": [
    {
     "data": {
      "text/plain": [
       "age         1\n",
       "sex         0\n",
       "cp          0\n",
       "trestbps    2\n",
       "chol        2\n",
       "fbs         0\n",
       "restecg     0\n",
       "thalach     2\n",
       "exang       0\n",
       "oldpeak     0\n",
       "slope       0\n",
       "ca          0\n",
       "thal        0\n",
       "target      0\n",
       "dtype: int64"
      ]
     },
     "execution_count": 78,
     "metadata": {},
     "output_type": "execute_result"
    }
   ],
   "source": [
    "# Remove columns with missing sex or cp\n",
    "df = df.dropna(axis=0, subset=['sex'])\n",
    "df.isna().sum()"
   ]
  },
  {
   "cell_type": "code",
   "execution_count": 79,
   "id": "be527e9e",
   "metadata": {},
   "outputs": [
    {
     "data": {
      "text/plain": [
       "(54, 131, 247, 150)"
      ]
     },
     "execution_count": 79,
     "metadata": {},
     "output_type": "execute_result"
    }
   ],
   "source": [
    "# Find mean for the remaining columns with missing values\n",
    "round(df[\"age\"].mean()), round(df[\"trestbps\"].mean()), round(df[\"chol\"].mean()), round(df[\"thalach\"].mean())"
   ]
  },
  {
   "cell_type": "code",
   "execution_count": 80,
   "id": "f7ffcccf",
   "metadata": {},
   "outputs": [
    {
     "data": {
      "text/plain": [
       "age         0\n",
       "sex         0\n",
       "cp          0\n",
       "trestbps    0\n",
       "chol        0\n",
       "fbs         0\n",
       "restecg     0\n",
       "thalach     0\n",
       "exang       0\n",
       "oldpeak     0\n",
       "slope       0\n",
       "ca          0\n",
       "thal        0\n",
       "target      0\n",
       "dtype: int64"
      ]
     },
     "execution_count": 80,
     "metadata": {},
     "output_type": "execute_result"
    }
   ],
   "source": [
    "# Filling missing values with the columns mean\n",
    "df[\"age\"].fillna(round(df[\"age\"].mean()), inplace = True) \n",
    "df[\"trestbps\"].fillna(round(df[\"trestbps\"].mean()), inplace = True) \n",
    "df[\"chol\"].fillna(round(df[\"chol\"].mean()), inplace = True) \n",
    "df[\"thalach\"].fillna(round(df[\"thalach\"].mean()), inplace = True) \n",
    "# Now we have no missing values\n",
    "df.isna().sum()"
   ]
  },
  {
   "cell_type": "code",
   "execution_count": 81,
   "id": "69627980",
   "metadata": {},
   "outputs": [
    {
     "name": "stdout",
     "output_type": "stream",
     "text": [
      "<class 'pandas.core.frame.DataFrame'>\n",
      "Int64Index: 296 entries, 0 to 302\n",
      "Data columns (total 14 columns):\n",
      " #   Column    Non-Null Count  Dtype  \n",
      "---  ------    --------------  -----  \n",
      " 0   age       296 non-null    float64\n",
      " 1   sex       296 non-null    float64\n",
      " 2   cp        296 non-null    int64  \n",
      " 3   trestbps  296 non-null    float64\n",
      " 4   chol      296 non-null    float64\n",
      " 5   fbs       296 non-null    int64  \n",
      " 6   restecg   296 non-null    int64  \n",
      " 7   thalach   296 non-null    float64\n",
      " 8   exang     296 non-null    int64  \n",
      " 9   oldpeak   296 non-null    float64\n",
      " 10  slope     296 non-null    int64  \n",
      " 11  ca        296 non-null    int64  \n",
      " 12  thal      296 non-null    int64  \n",
      " 13  target    296 non-null    float64\n",
      "dtypes: float64(7), int64(7)\n",
      "memory usage: 34.7 KB\n"
     ]
    }
   ],
   "source": [
    "# Our data is already in the form of numbers\n",
    "df.info()"
   ]
  },
  {
   "cell_type": "code",
   "execution_count": 82,
   "id": "0309f078",
   "metadata": {},
   "outputs": [
    {
     "data": {
      "text/html": [
       "<div>\n",
       "<style scoped>\n",
       "    .dataframe tbody tr th:only-of-type {\n",
       "        vertical-align: middle;\n",
       "    }\n",
       "\n",
       "    .dataframe tbody tr th {\n",
       "        vertical-align: top;\n",
       "    }\n",
       "\n",
       "    .dataframe thead th {\n",
       "        text-align: right;\n",
       "    }\n",
       "</style>\n",
       "<table border=\"1\" class=\"dataframe\">\n",
       "  <thead>\n",
       "    <tr style=\"text-align: right;\">\n",
       "      <th></th>\n",
       "      <th>age</th>\n",
       "      <th>sex</th>\n",
       "      <th>cp</th>\n",
       "      <th>trestbps</th>\n",
       "      <th>chol</th>\n",
       "      <th>fbs</th>\n",
       "      <th>restecg</th>\n",
       "      <th>thalach</th>\n",
       "      <th>exang</th>\n",
       "      <th>oldpeak</th>\n",
       "      <th>slope</th>\n",
       "      <th>ca</th>\n",
       "      <th>thal</th>\n",
       "      <th>target</th>\n",
       "    </tr>\n",
       "  </thead>\n",
       "  <tbody>\n",
       "    <tr>\n",
       "      <th>count</th>\n",
       "      <td>296.000000</td>\n",
       "      <td>296.000000</td>\n",
       "      <td>296.000000</td>\n",
       "      <td>296.000000</td>\n",
       "      <td>296.000000</td>\n",
       "      <td>296.000000</td>\n",
       "      <td>296.000000</td>\n",
       "      <td>296.000000</td>\n",
       "      <td>296.000000</td>\n",
       "      <td>296.000000</td>\n",
       "      <td>296.000000</td>\n",
       "      <td>296.000000</td>\n",
       "      <td>296.000000</td>\n",
       "      <td>296.000000</td>\n",
       "    </tr>\n",
       "    <tr>\n",
       "      <th>mean</th>\n",
       "      <td>54.297297</td>\n",
       "      <td>0.685811</td>\n",
       "      <td>0.976351</td>\n",
       "      <td>131.493243</td>\n",
       "      <td>246.668919</td>\n",
       "      <td>0.148649</td>\n",
       "      <td>0.527027</td>\n",
       "      <td>149.729730</td>\n",
       "      <td>0.327703</td>\n",
       "      <td>1.032432</td>\n",
       "      <td>1.402027</td>\n",
       "      <td>0.729730</td>\n",
       "      <td>2.327703</td>\n",
       "      <td>0.543919</td>\n",
       "    </tr>\n",
       "    <tr>\n",
       "      <th>std</th>\n",
       "      <td>9.128803</td>\n",
       "      <td>0.464978</td>\n",
       "      <td>1.033071</td>\n",
       "      <td>17.612783</td>\n",
       "      <td>51.349700</td>\n",
       "      <td>0.356344</td>\n",
       "      <td>0.526529</td>\n",
       "      <td>22.743848</td>\n",
       "      <td>0.470171</td>\n",
       "      <td>1.152166</td>\n",
       "      <td>0.613848</td>\n",
       "      <td>1.025734</td>\n",
       "      <td>0.608451</td>\n",
       "      <td>0.498911</td>\n",
       "    </tr>\n",
       "    <tr>\n",
       "      <th>min</th>\n",
       "      <td>29.000000</td>\n",
       "      <td>0.000000</td>\n",
       "      <td>0.000000</td>\n",
       "      <td>94.000000</td>\n",
       "      <td>126.000000</td>\n",
       "      <td>0.000000</td>\n",
       "      <td>0.000000</td>\n",
       "      <td>71.000000</td>\n",
       "      <td>0.000000</td>\n",
       "      <td>0.000000</td>\n",
       "      <td>0.000000</td>\n",
       "      <td>0.000000</td>\n",
       "      <td>0.000000</td>\n",
       "      <td>0.000000</td>\n",
       "    </tr>\n",
       "    <tr>\n",
       "      <th>25%</th>\n",
       "      <td>47.000000</td>\n",
       "      <td>0.000000</td>\n",
       "      <td>0.000000</td>\n",
       "      <td>120.000000</td>\n",
       "      <td>211.750000</td>\n",
       "      <td>0.000000</td>\n",
       "      <td>0.000000</td>\n",
       "      <td>133.750000</td>\n",
       "      <td>0.000000</td>\n",
       "      <td>0.000000</td>\n",
       "      <td>1.000000</td>\n",
       "      <td>0.000000</td>\n",
       "      <td>2.000000</td>\n",
       "      <td>0.000000</td>\n",
       "    </tr>\n",
       "    <tr>\n",
       "      <th>50%</th>\n",
       "      <td>55.000000</td>\n",
       "      <td>1.000000</td>\n",
       "      <td>1.000000</td>\n",
       "      <td>130.000000</td>\n",
       "      <td>240.500000</td>\n",
       "      <td>0.000000</td>\n",
       "      <td>1.000000</td>\n",
       "      <td>152.500000</td>\n",
       "      <td>0.000000</td>\n",
       "      <td>0.800000</td>\n",
       "      <td>1.000000</td>\n",
       "      <td>0.000000</td>\n",
       "      <td>2.000000</td>\n",
       "      <td>1.000000</td>\n",
       "    </tr>\n",
       "    <tr>\n",
       "      <th>75%</th>\n",
       "      <td>61.000000</td>\n",
       "      <td>1.000000</td>\n",
       "      <td>2.000000</td>\n",
       "      <td>140.000000</td>\n",
       "      <td>274.250000</td>\n",
       "      <td>0.000000</td>\n",
       "      <td>1.000000</td>\n",
       "      <td>166.000000</td>\n",
       "      <td>1.000000</td>\n",
       "      <td>1.600000</td>\n",
       "      <td>2.000000</td>\n",
       "      <td>1.000000</td>\n",
       "      <td>3.000000</td>\n",
       "      <td>1.000000</td>\n",
       "    </tr>\n",
       "    <tr>\n",
       "      <th>max</th>\n",
       "      <td>77.000000</td>\n",
       "      <td>1.000000</td>\n",
       "      <td>3.000000</td>\n",
       "      <td>200.000000</td>\n",
       "      <td>564.000000</td>\n",
       "      <td>1.000000</td>\n",
       "      <td>2.000000</td>\n",
       "      <td>202.000000</td>\n",
       "      <td>1.000000</td>\n",
       "      <td>6.200000</td>\n",
       "      <td>2.000000</td>\n",
       "      <td>4.000000</td>\n",
       "      <td>3.000000</td>\n",
       "      <td>1.000000</td>\n",
       "    </tr>\n",
       "  </tbody>\n",
       "</table>\n",
       "</div>"
      ],
      "text/plain": [
       "              age         sex          cp    trestbps        chol         fbs  \\\n",
       "count  296.000000  296.000000  296.000000  296.000000  296.000000  296.000000   \n",
       "mean    54.297297    0.685811    0.976351  131.493243  246.668919    0.148649   \n",
       "std      9.128803    0.464978    1.033071   17.612783   51.349700    0.356344   \n",
       "min     29.000000    0.000000    0.000000   94.000000  126.000000    0.000000   \n",
       "25%     47.000000    0.000000    0.000000  120.000000  211.750000    0.000000   \n",
       "50%     55.000000    1.000000    1.000000  130.000000  240.500000    0.000000   \n",
       "75%     61.000000    1.000000    2.000000  140.000000  274.250000    0.000000   \n",
       "max     77.000000    1.000000    3.000000  200.000000  564.000000    1.000000   \n",
       "\n",
       "          restecg     thalach       exang     oldpeak       slope          ca  \\\n",
       "count  296.000000  296.000000  296.000000  296.000000  296.000000  296.000000   \n",
       "mean     0.527027  149.729730    0.327703    1.032432    1.402027    0.729730   \n",
       "std      0.526529   22.743848    0.470171    1.152166    0.613848    1.025734   \n",
       "min      0.000000   71.000000    0.000000    0.000000    0.000000    0.000000   \n",
       "25%      0.000000  133.750000    0.000000    0.000000    1.000000    0.000000   \n",
       "50%      1.000000  152.500000    0.000000    0.800000    1.000000    0.000000   \n",
       "75%      1.000000  166.000000    1.000000    1.600000    2.000000    1.000000   \n",
       "max      2.000000  202.000000    1.000000    6.200000    2.000000    4.000000   \n",
       "\n",
       "             thal      target  \n",
       "count  296.000000  296.000000  \n",
       "mean     2.327703    0.543919  \n",
       "std      0.608451    0.498911  \n",
       "min      0.000000    0.000000  \n",
       "25%      2.000000    0.000000  \n",
       "50%      2.000000    1.000000  \n",
       "75%      3.000000    1.000000  \n",
       "max      3.000000    1.000000  "
      ]
     },
     "execution_count": 82,
     "metadata": {},
     "output_type": "execute_result"
    }
   ],
   "source": [
    "# One finally thing we want to see is some basic statistics about our dataset to imporve understanding\n",
    "df.describe()"
   ]
  },
  {
   "cell_type": "markdown",
   "id": "38f813cb",
   "metadata": {},
   "source": [
    "**Now that our dataset is ready we will do some comparisons within the columns to see if we can find anything interesting**"
   ]
  },
  {
   "cell_type": "code",
   "execution_count": 83,
   "id": "1bc78233",
   "metadata": {},
   "outputs": [
    {
     "data": {
      "text/plain": [
       "1.0    203\n",
       "0.0     93\n",
       "Name: sex, dtype: int64"
      ]
     },
     "execution_count": 83,
     "metadata": {},
     "output_type": "execute_result"
    }
   ],
   "source": [
    "# How many of each sex do we have data for...\n",
    "# We have 203 males and 93 females\n",
    "df.sex.value_counts()"
   ]
  },
  {
   "cell_type": "code",
   "execution_count": 84,
   "id": "ed22d9eb",
   "metadata": {},
   "outputs": [
    {
     "data": {
      "text/html": [
       "<div>\n",
       "<style scoped>\n",
       "    .dataframe tbody tr th:only-of-type {\n",
       "        vertical-align: middle;\n",
       "    }\n",
       "\n",
       "    .dataframe tbody tr th {\n",
       "        vertical-align: top;\n",
       "    }\n",
       "\n",
       "    .dataframe thead th {\n",
       "        text-align: right;\n",
       "    }\n",
       "</style>\n",
       "<table border=\"1\" class=\"dataframe\">\n",
       "  <thead>\n",
       "    <tr style=\"text-align: right;\">\n",
       "      <th>sex</th>\n",
       "      <th>0.0</th>\n",
       "      <th>1.0</th>\n",
       "    </tr>\n",
       "    <tr>\n",
       "      <th>target</th>\n",
       "      <th></th>\n",
       "      <th></th>\n",
       "    </tr>\n",
       "  </thead>\n",
       "  <tbody>\n",
       "    <tr>\n",
       "      <th>0.0</th>\n",
       "      <td>23</td>\n",
       "      <td>112</td>\n",
       "    </tr>\n",
       "    <tr>\n",
       "      <th>1.0</th>\n",
       "      <td>70</td>\n",
       "      <td>91</td>\n",
       "    </tr>\n",
       "  </tbody>\n",
       "</table>\n",
       "</div>"
      ],
      "text/plain": [
       "sex     0.0  1.0\n",
       "target          \n",
       "0.0      23  112\n",
       "1.0      70   91"
      ]
     },
     "execution_count": 84,
     "metadata": {},
     "output_type": "execute_result"
    }
   ],
   "source": [
    "pd.crosstab(df.target, df.sex)"
   ]
  },
  {
   "cell_type": "code",
   "execution_count": 85,
   "id": "914948cc",
   "metadata": {},
   "outputs": [
    {
     "data": {
      "image/png": "[encoded data removed]",
      "text/plain": [
       "<Figure size 720x432 with 1 Axes>"
      ]
     },
     "metadata": {
      "needs_background": "light"
     },
     "output_type": "display_data"
    }
   ],
   "source": [
    "# We can model this comparison onto a graph for an easier analysis of the data\n",
    "pd.crosstab(df.target, df.sex).plot(kind=\"bar\",\n",
    "                                     figsize=(10,6),\n",
    "                                     color=[\"#fc81a8\", \"#81b0fc\"])\n",
    "\n",
    "plt.title(\"Heart Disease Frequency in relation to Sex\")\n",
    "plt.xlabel(\"0 = No Disease, 1 = Disease\")\n",
    "plt.ylabel(\"Number of Patients\")\n",
    "plt.legend([\"Female\", \"Male\"])\n",
    "plt.xticks(rotation=0);\n",
    "# Here we can see the proportions of male and females who both have heart disease and do not have heart disease"
   ]
  },
  {
   "cell_type": "code",
   "execution_count": 86,
   "id": "dad8ae0b",
   "metadata": {},
   "outputs": [
    {
     "data": {
      "text/plain": [
       "58.0    19\n",
       "54.0    17\n",
       "57.0    15\n",
       "59.0    13\n",
       "52.0    13\n",
       "51.0    12\n",
       "56.0    11\n",
       "44.0    11\n",
       "60.0    11\n",
       "41.0    10\n",
       "62.0    10\n",
       "67.0     9\n",
       "63.0     9\n",
       "64.0     9\n",
       "43.0     8\n",
       "42.0     8\n",
       "65.0     8\n",
       "53.0     8\n",
       "45.0     8\n",
       "55.0     8\n",
       "66.0     7\n",
       "61.0     7\n",
       "46.0     7\n",
       "50.0     7\n",
       "48.0     6\n",
       "49.0     5\n",
       "35.0     4\n",
       "70.0     4\n",
       "68.0     4\n",
       "47.0     4\n",
       "39.0     4\n",
       "69.0     3\n",
       "71.0     3\n",
       "40.0     3\n",
       "38.0     3\n",
       "34.0     2\n",
       "37.0     2\n",
       "29.0     1\n",
       "74.0     1\n",
       "76.0     1\n",
       "77.0     1\n",
       "Name: age, dtype: int64"
      ]
     },
     "execution_count": 86,
     "metadata": {},
     "output_type": "execute_result"
    }
   ],
   "source": [
    "# Another interesting comparison would be the relationship between age and heart disease frequency\n",
    "df.age.value_counts()"
   ]
  },
  {
   "cell_type": "code",
   "execution_count": 87,
   "id": "8279ada9",
   "metadata": {},
   "outputs": [
    {
     "data": {
      "text/html": [
       "<div>\n",
       "<style scoped>\n",
       "    .dataframe tbody tr th:only-of-type {\n",
       "        vertical-align: middle;\n",
       "    }\n",
       "\n",
       "    .dataframe tbody tr th {\n",
       "        vertical-align: top;\n",
       "    }\n",
       "\n",
       "    .dataframe thead th {\n",
       "        text-align: right;\n",
       "    }\n",
       "</style>\n",
       "<table border=\"1\" class=\"dataframe\">\n",
       "  <thead>\n",
       "    <tr style=\"text-align: right;\">\n",
       "      <th>age</th>\n",
       "      <th>29.0</th>\n",
       "      <th>34.0</th>\n",
       "      <th>35.0</th>\n",
       "      <th>37.0</th>\n",
       "      <th>38.0</th>\n",
       "      <th>39.0</th>\n",
       "      <th>40.0</th>\n",
       "      <th>41.0</th>\n",
       "      <th>42.0</th>\n",
       "      <th>43.0</th>\n",
       "      <th>...</th>\n",
       "      <th>65.0</th>\n",
       "      <th>66.0</th>\n",
       "      <th>67.0</th>\n",
       "      <th>68.0</th>\n",
       "      <th>69.0</th>\n",
       "      <th>70.0</th>\n",
       "      <th>71.0</th>\n",
       "      <th>74.0</th>\n",
       "      <th>76.0</th>\n",
       "      <th>77.0</th>\n",
       "    </tr>\n",
       "    <tr>\n",
       "      <th>target</th>\n",
       "      <th></th>\n",
       "      <th></th>\n",
       "      <th></th>\n",
       "      <th></th>\n",
       "      <th></th>\n",
       "      <th></th>\n",
       "      <th></th>\n",
       "      <th></th>\n",
       "      <th></th>\n",
       "      <th></th>\n",
       "      <th></th>\n",
       "      <th></th>\n",
       "      <th></th>\n",
       "      <th></th>\n",
       "      <th></th>\n",
       "      <th></th>\n",
       "      <th></th>\n",
       "      <th></th>\n",
       "      <th></th>\n",
       "      <th></th>\n",
       "      <th></th>\n",
       "    </tr>\n",
       "  </thead>\n",
       "  <tbody>\n",
       "    <tr>\n",
       "      <th>0.0</th>\n",
       "      <td>0</td>\n",
       "      <td>0</td>\n",
       "      <td>2</td>\n",
       "      <td>0</td>\n",
       "      <td>1</td>\n",
       "      <td>1</td>\n",
       "      <td>2</td>\n",
       "      <td>1</td>\n",
       "      <td>1</td>\n",
       "      <td>3</td>\n",
       "      <td>...</td>\n",
       "      <td>4</td>\n",
       "      <td>3</td>\n",
       "      <td>6</td>\n",
       "      <td>2</td>\n",
       "      <td>1</td>\n",
       "      <td>3</td>\n",
       "      <td>0</td>\n",
       "      <td>0</td>\n",
       "      <td>0</td>\n",
       "      <td>1</td>\n",
       "    </tr>\n",
       "    <tr>\n",
       "      <th>1.0</th>\n",
       "      <td>1</td>\n",
       "      <td>2</td>\n",
       "      <td>2</td>\n",
       "      <td>2</td>\n",
       "      <td>2</td>\n",
       "      <td>3</td>\n",
       "      <td>1</td>\n",
       "      <td>9</td>\n",
       "      <td>7</td>\n",
       "      <td>5</td>\n",
       "      <td>...</td>\n",
       "      <td>4</td>\n",
       "      <td>4</td>\n",
       "      <td>3</td>\n",
       "      <td>2</td>\n",
       "      <td>2</td>\n",
       "      <td>1</td>\n",
       "      <td>3</td>\n",
       "      <td>1</td>\n",
       "      <td>1</td>\n",
       "      <td>0</td>\n",
       "    </tr>\n",
       "  </tbody>\n",
       "</table>\n",
       "<p>2 rows × 41 columns</p>\n",
       "</div>"
      ],
      "text/plain": [
       "age     29.0  34.0  35.0  37.0  38.0  39.0  40.0  41.0  42.0  43.0  ...  65.0  \\\n",
       "target                                                              ...         \n",
       "0.0        0     0     2     0     1     1     2     1     1     3  ...     4   \n",
       "1.0        1     2     2     2     2     3     1     9     7     5  ...     4   \n",
       "\n",
       "age     66.0  67.0  68.0  69.0  70.0  71.0  74.0  76.0  77.0  \n",
       "target                                                        \n",
       "0.0        3     6     2     1     3     0     0     0     1  \n",
       "1.0        4     3     2     2     1     3     1     1     0  \n",
       "\n",
       "[2 rows x 41 columns]"
      ]
     },
     "execution_count": 87,
     "metadata": {},
     "output_type": "execute_result"
    }
   ],
   "source": [
    "pd.crosstab(df.target, df.age)"
   ]
  },
  {
   "cell_type": "code",
   "execution_count": 88,
   "id": "1ae37f8e",
   "metadata": {},
   "outputs": [
    {
     "data": {
      "image/png": "[encoded data removed]",
      "text/plain": [
       "<Figure size 720x432 with 1 Axes>"
      ]
     },
     "metadata": {
      "needs_background": "light"
     },
     "output_type": "display_data"
    }
   ],
   "source": [
    "# We can model this comparison onto a graph for an easier analysis of the data\n",
    "# Here we are creating a scatter plot with the relationship between age // thalach (max heart rate) and heart disease\n",
    "plt.figure(figsize=(10, 6))\n",
    "\n",
    "# Scatter with yes heart disease examples\n",
    "plt.scatter(df.age[df.target==1],\n",
    "            df.thalach[df.target==1],\n",
    "            color=\"#f5696e\")\n",
    "\n",
    "# Scatter with no heart disease examples\n",
    "plt.scatter(df.age[df.target==0],\n",
    "            df.thalach[df.target==0],\n",
    "            color=\"#69f577\")\n",
    "\n",
    "plt.title(\"Heart Disease Frequency in relation to Age\")\n",
    "plt.xlabel(\"Age\")\n",
    "plt.ylabel(\"Max Heart Rate\")\n",
    "plt.legend([\"Disease\", \"No Disease\"]);\n",
    "# This graph (although it looks nice) doesn't provide a very clear picture of any te=rends.\n",
    "# It mainly assists in finding some outliers, but for non-medical people like myself this doesn't tell me much."
   ]
  },
  {
   "cell_type": "code",
   "execution_count": 89,
   "id": "ee2ebfb8",
   "metadata": {},
   "outputs": [
    {
     "data": {
      "image/png": "[encoded data removed]",
      "text/plain": [
       "<Figure size 432x288 with 1 Axes>"
      ]
     },
     "metadata": {
      "needs_background": "light"
     },
     "output_type": "display_data"
    }
   ],
   "source": [
    "# Another graph that would be much better to relate Age to Heart Disease would be a histogram\n",
    "df.age.plot.hist();\n",
    "# Here wecan see a bell-curve like shape peaking around the age of 60."
   ]
  },
  {
   "cell_type": "markdown",
   "id": "b1ae18dc",
   "metadata": {},
   "source": [
    "**We can continue exploring different attributes to gain a better sense of the data, I am going to just make one last large comparison prior to moving onto modelling**"
   ]
  },
  {
   "cell_type": "code",
   "execution_count": 90,
   "id": "0118ff56",
   "metadata": {},
   "outputs": [
    {
     "data": {
      "image/png": "[encoded data removed]",
      "text/plain": [
       "<Figure size 1080x720 with 2 Axes>"
      ]
     },
     "metadata": {
      "needs_background": "light"
     },
     "output_type": "display_data"
    }
   ],
   "source": [
    "# We are going to create a correlation matrix (look below for explanation) \n",
    "# to see how each of the parameters relate to each other.\n",
    "corr_matrix = df.corr()\n",
    "fig, ax = plt.subplots(figsize=(15, 10))\n",
    "ax = sns.heatmap(corr_matrix,\n",
    "                 annot=True,\n",
    "                 linewidths=0.5,\n",
    "                 fmt=\".2f\",\n",
    "                 cmap=\"YlOrRd\");"
   ]
  },
  {
   "cell_type": "markdown",
   "id": "e4985a15",
   "metadata": {},
   "source": [
    "#### Correlation Matrix Basic Explanation:\n",
    "https://www.youtube.com/watch?v=qUmmATEJdgM\n",
    "\n",
    "- A table showing the correlation coeffecients of parameters\n",
    "- Number range from +1.00 to -1.00\n",
    "    * +1.00 means a perfect positive correlation\n",
    "    * 0.00 means no relationship\n",
    "    * -1.00 means a perfect negative correlation\n",
    "- Correlations measure the direction and strength of a linear relationship among parameters\n",
    "    * A positive correlation indicates that as one parameter increases so does the other one\n",
    "    * A negative correlation indicates that as one parameter increases the other parameter decreases and visa versa"
   ]
  },
  {
   "cell_type": "markdown",
   "id": "94c13cf9",
   "metadata": {},
   "source": [
    "## 3. Modelling\n",
    "\n",
    "After setting up and exploring the data we can now begin creating the model."
   ]
  },
  {
   "cell_type": "code",
   "execution_count": 91,
   "id": "2815dd69",
   "metadata": {},
   "outputs": [],
   "source": [
    "# Set vraibles X & y\n",
    "\n",
    "# X is the set where we are going to predict the target \n",
    "X = df.drop(\"target\", axis=1)\n",
    "# y will be the answers to the models predictions\n",
    "y = df[\"target\"]"
   ]
  },
  {
   "cell_type": "code",
   "execution_count": 92,
   "id": "55e6b304",
   "metadata": {},
   "outputs": [
    {
     "data": {
      "text/html": [
       "<div>\n",
       "<style scoped>\n",
       "    .dataframe tbody tr th:only-of-type {\n",
       "        vertical-align: middle;\n",
       "    }\n",
       "\n",
       "    .dataframe tbody tr th {\n",
       "        vertical-align: top;\n",
       "    }\n",
       "\n",
       "    .dataframe thead th {\n",
       "        text-align: right;\n",
       "    }\n",
       "</style>\n",
       "<table border=\"1\" class=\"dataframe\">\n",
       "  <thead>\n",
       "    <tr style=\"text-align: right;\">\n",
       "      <th></th>\n",
       "      <th>age</th>\n",
       "      <th>sex</th>\n",
       "      <th>cp</th>\n",
       "      <th>trestbps</th>\n",
       "      <th>chol</th>\n",
       "      <th>fbs</th>\n",
       "      <th>restecg</th>\n",
       "      <th>thalach</th>\n",
       "      <th>exang</th>\n",
       "      <th>oldpeak</th>\n",
       "      <th>slope</th>\n",
       "      <th>ca</th>\n",
       "      <th>thal</th>\n",
       "    </tr>\n",
       "  </thead>\n",
       "  <tbody>\n",
       "    <tr>\n",
       "      <th>0</th>\n",
       "      <td>63.0</td>\n",
       "      <td>1.0</td>\n",
       "      <td>3</td>\n",
       "      <td>145.0</td>\n",
       "      <td>233.0</td>\n",
       "      <td>1</td>\n",
       "      <td>0</td>\n",
       "      <td>150.0</td>\n",
       "      <td>0</td>\n",
       "      <td>2.3</td>\n",
       "      <td>0</td>\n",
       "      <td>0</td>\n",
       "      <td>1</td>\n",
       "    </tr>\n",
       "    <tr>\n",
       "      <th>1</th>\n",
       "      <td>37.0</td>\n",
       "      <td>1.0</td>\n",
       "      <td>2</td>\n",
       "      <td>130.0</td>\n",
       "      <td>250.0</td>\n",
       "      <td>0</td>\n",
       "      <td>1</td>\n",
       "      <td>187.0</td>\n",
       "      <td>0</td>\n",
       "      <td>3.5</td>\n",
       "      <td>0</td>\n",
       "      <td>0</td>\n",
       "      <td>2</td>\n",
       "    </tr>\n",
       "    <tr>\n",
       "      <th>2</th>\n",
       "      <td>41.0</td>\n",
       "      <td>0.0</td>\n",
       "      <td>1</td>\n",
       "      <td>131.0</td>\n",
       "      <td>204.0</td>\n",
       "      <td>0</td>\n",
       "      <td>0</td>\n",
       "      <td>172.0</td>\n",
       "      <td>0</td>\n",
       "      <td>1.4</td>\n",
       "      <td>2</td>\n",
       "      <td>0</td>\n",
       "      <td>2</td>\n",
       "    </tr>\n",
       "    <tr>\n",
       "      <th>3</th>\n",
       "      <td>56.0</td>\n",
       "      <td>1.0</td>\n",
       "      <td>1</td>\n",
       "      <td>120.0</td>\n",
       "      <td>236.0</td>\n",
       "      <td>0</td>\n",
       "      <td>1</td>\n",
       "      <td>178.0</td>\n",
       "      <td>0</td>\n",
       "      <td>0.8</td>\n",
       "      <td>2</td>\n",
       "      <td>0</td>\n",
       "      <td>2</td>\n",
       "    </tr>\n",
       "    <tr>\n",
       "      <th>6</th>\n",
       "      <td>56.0</td>\n",
       "      <td>0.0</td>\n",
       "      <td>1</td>\n",
       "      <td>140.0</td>\n",
       "      <td>294.0</td>\n",
       "      <td>0</td>\n",
       "      <td>0</td>\n",
       "      <td>153.0</td>\n",
       "      <td>0</td>\n",
       "      <td>1.3</td>\n",
       "      <td>1</td>\n",
       "      <td>0</td>\n",
       "      <td>2</td>\n",
       "    </tr>\n",
       "  </tbody>\n",
       "</table>\n",
       "</div>"
      ],
      "text/plain": [
       "    age  sex  cp  trestbps   chol  fbs  restecg  thalach  exang  oldpeak  \\\n",
       "0  63.0  1.0   3     145.0  233.0    1        0    150.0      0      2.3   \n",
       "1  37.0  1.0   2     130.0  250.0    0        1    187.0      0      3.5   \n",
       "2  41.0  0.0   1     131.0  204.0    0        0    172.0      0      1.4   \n",
       "3  56.0  1.0   1     120.0  236.0    0        1    178.0      0      0.8   \n",
       "6  56.0  0.0   1     140.0  294.0    0        0    153.0      0      1.3   \n",
       "\n",
       "   slope  ca  thal  \n",
       "0      0   0     1  \n",
       "1      0   0     2  \n",
       "2      2   0     2  \n",
       "3      2   0     2  \n",
       "6      1   0     2  "
      ]
     },
     "execution_count": 92,
     "metadata": {},
     "output_type": "execute_result"
    }
   ],
   "source": [
    "X.head()"
   ]
  },
  {
   "cell_type": "code",
   "execution_count": 93,
   "id": "01ebb6f6",
   "metadata": {},
   "outputs": [
    {
     "data": {
      "text/plain": [
       "0    1.0\n",
       "1    1.0\n",
       "2    1.0\n",
       "3    1.0\n",
       "6    1.0\n",
       "Name: target, dtype: float64"
      ]
     },
     "execution_count": 93,
     "metadata": {},
     "output_type": "execute_result"
    }
   ],
   "source": [
    "y.head()"
   ]
  },
  {
   "cell_type": "code",
   "execution_count": 94,
   "id": "b722f374",
   "metadata": {},
   "outputs": [],
   "source": [
    "# Now we are going to split our data into training and testing sets.\n",
    "\n",
    "# Set a random number to a reproducable value\n",
    "np.random.seed(0)\n",
    "\n",
    "# Split into train and test set\n",
    "X_train, X_test, y_train, y_test = train_test_split(X, y, test_size=0.2)\n",
    "# 20% of the data will be split of to test on, 80% will be used to train"
   ]
  },
  {
   "cell_type": "markdown",
   "id": "9cae7908",
   "metadata": {},
   "source": [
    "We have split our data into train and test splits. \n",
    "\n",
    "Now we will create a function to test out different models and see which one works best."
   ]
  },
  {
   "cell_type": "code",
   "execution_count": 95,
   "id": "9325d6c4",
   "metadata": {},
   "outputs": [],
   "source": [
    "# Put models in a dictionary\n",
    "models = {\"Logistic Regression\": LogisticRegression(max_iter=1000000),\n",
    "          \"Gradient Boosting Classifier\": GradientBoostingClassifier(),\n",
    "          \"SGD\": SGDClassifier(),\n",
    "          \"SVM\": svm.SVC(),\n",
    "          \"KNN\": KNeighborsClassifier(),\n",
    "          \"Random Forest\": RandomForestClassifier()}\n",
    "\n",
    "# Create a function to fit and score models\n",
    "def fit_and_score(models, X_train, X_test, y_train, y_test):\n",
    "    '''\n",
    "    Fits and evaluates given machine learning models.\n",
    "    models: a dict of different differnt Sckikit-Learn machine learning models\n",
    "    X_train: training data (no labels)\n",
    "    X_test: testing data (no lables)\n",
    "    y_train: training labels\n",
    "    y_test: test labels\n",
    "    '''\n",
    "    # Set random seed\n",
    "    np.random.seed(0)\n",
    "    # Make a dictionary to keep model scores\n",
    "    model_scores = {}\n",
    "    # Loop through models\n",
    "    for name, model in models.items():\n",
    "        # Fit the model to the data\n",
    "        model.fit(X_train, y_train)\n",
    "        # Evaluate the model and append its score to model_scores\n",
    "        model_scores[name] = model.score(X_test, y_test)\n",
    "    return model_scores"
   ]
  },
  {
   "cell_type": "code",
   "execution_count": 96,
   "id": "720d1037",
   "metadata": {},
   "outputs": [
    {
     "data": {
      "text/plain": [
       "{'Logistic Regression': 0.85,\n",
       " 'Gradient Boosting Classifier': 0.8333333333333334,\n",
       " 'SGD': 0.5166666666666667,\n",
       " 'SVM': 0.65,\n",
       " 'KNN': 0.6833333333333333,\n",
       " 'Random Forest': 0.85}"
      ]
     },
     "execution_count": 96,
     "metadata": {},
     "output_type": "execute_result"
    }
   ],
   "source": [
    "# Use our function to score all of our different models\n",
    "model_scores = fit_and_score(models=models,\n",
    "                             X_train=X_train,\n",
    "                             X_test=X_test,\n",
    "                             y_train=y_train,\n",
    "                             y_test=y_test)\n",
    "model_scores"
   ]
  },
  {
   "cell_type": "code",
   "execution_count": 97,
   "id": "582b2bcd",
   "metadata": {},
   "outputs": [
    {
     "data": {
      "image/png": "[encoded data removed]",
      "text/plain": [
       "<Figure size 432x288 with 1 Axes>"
      ]
     },
     "metadata": {
      "needs_background": "light"
     },
     "output_type": "display_data"
    }
   ],
   "source": [
    "# Although it's pretty obvious at the moment, it would be helpful to create a quick graph comparing the models\n",
    "model_compare = pd.DataFrame(model_scores, index=[\"accuracy\"])\n",
    "model_compare.T.plot.bar();"
   ]
  },
  {
   "cell_type": "markdown",
   "id": "a3796c27",
   "metadata": {},
   "source": [
    "## 4. Hyperparameter Tuning"
   ]
  },
  {
   "cell_type": "markdown",
   "id": "f4014dab",
   "metadata": {},
   "source": [
    "Since a few of our models are quite close we will do some hyperparameter tuning to two of the models in order to see if I can imporve results.\n",
    "\n",
    "I will tune the Logistic Regression and Random Forest models using RandomizedSearchCV to make the process much easier.\n",
    "\n",
    "**Reading documentation what each of these models actually do**"
   ]
  },
  {
   "cell_type": "markdown",
   "id": "6e86a053",
   "metadata": {},
   "source": [
    "#### **Logistic Regression Tuning**"
   ]
  },
  {
   "cell_type": "code",
   "execution_count": 98,
   "id": "71fddaca",
   "metadata": {},
   "outputs": [],
   "source": [
    "# Create a hyperparameter grid for LogisticRegression\n",
    "log_reg_grid = {\"C\": np.logspace(-4, 4, 20),\n",
    "                \"solver\": [\"newton-cg\", \"liblinear\"]}\n",
    "# Obviously many more parameters can be adjusted and iterated during the next cell, however\n",
    "# to keep things effecient I have limited them."
   ]
  },
  {
   "cell_type": "code",
   "execution_count": 99,
   "id": "1785fcc7",
   "metadata": {},
   "outputs": [
    {
     "name": "stdout",
     "output_type": "stream",
     "text": [
      "Fitting 5 folds for each of 20 candidates, totalling 100 fits\n"
     ]
    },
    {
     "data": {
      "text/plain": [
       "RandomizedSearchCV(cv=5, estimator=LogisticRegression(), n_iter=20,\n",
       "                   param_distributions={'C': array([1.00000000e-04, 2.63665090e-04, 6.95192796e-04, 1.83298071e-03,\n",
       "       4.83293024e-03, 1.27427499e-02, 3.35981829e-02, 8.85866790e-02,\n",
       "       2.33572147e-01, 6.15848211e-01, 1.62377674e+00, 4.28133240e+00,\n",
       "       1.12883789e+01, 2.97635144e+01, 7.84759970e+01, 2.06913808e+02,\n",
       "       5.45559478e+02, 1.43844989e+03, 3.79269019e+03, 1.00000000e+04]),\n",
       "                                        'solver': ['newton-cg', 'liblinear']},\n",
       "                   verbose=True)"
      ]
     },
     "execution_count": 99,
     "metadata": {},
     "output_type": "execute_result"
    }
   ],
   "source": [
    "# Setup Random Seed\n",
    "np.random.seed(0)\n",
    "\n",
    "# Setup random hyperprarmeter search for LogisticRegression\n",
    "rs_log_reg = RandomizedSearchCV(LogisticRegression(),\n",
    "                                param_distributions=log_reg_grid,\n",
    "                                cv=5,\n",
    "                                n_iter=20,\n",
    "                                verbose=True)\n",
    "\n",
    "# Fit random hyperpraremeter search model for LogisticRegression\n",
    "rs_log_reg.fit(X_train, y_train)"
   ]
  },
  {
   "cell_type": "code",
   "execution_count": 100,
   "id": "2eb1fdaa",
   "metadata": {},
   "outputs": [
    {
     "data": {
      "text/plain": [
       "{'solver': 'newton-cg', 'C': 0.23357214690901212}"
      ]
     },
     "execution_count": 100,
     "metadata": {},
     "output_type": "execute_result"
    }
   ],
   "source": [
    "# Get best parameter combination for LogisticRegression\n",
    "rs_log_reg.best_params_"
   ]
  },
  {
   "cell_type": "code",
   "execution_count": 101,
   "id": "be4db4af",
   "metadata": {},
   "outputs": [
    {
     "data": {
      "text/plain": [
       "0.8666666666666667"
      ]
     },
     "execution_count": 101,
     "metadata": {},
     "output_type": "execute_result"
    }
   ],
   "source": [
    "# Get accuracy score of LogisticRegression\n",
    "rs_log_reg.score(X_test, y_test)"
   ]
  },
  {
   "cell_type": "markdown",
   "id": "c01c6ea5",
   "metadata": {},
   "source": [
    "#### **Random Forest Tuning**"
   ]
  },
  {
   "cell_type": "code",
   "execution_count": 102,
   "id": "f5bba8e0",
   "metadata": {},
   "outputs": [],
   "source": [
    "# Create a hyperparameter grid for RandomForestClassifier\n",
    "rand_for_grid = {\"n_estimators\": np.arange(10, 1000, 50),\n",
    "           \"max_depth\": [None, 3, 5, 10],\n",
    "           \"min_samples_split\": np.arange(2, 20, 2),\n",
    "           \"min_samples_leaf\": np.arange(1, 20, 2)}"
   ]
  },
  {
   "cell_type": "code",
   "execution_count": 103,
   "id": "034a2552",
   "metadata": {},
   "outputs": [
    {
     "name": "stdout",
     "output_type": "stream",
     "text": [
      "Fitting 5 folds for each of 20 candidates, totalling 100 fits\n"
     ]
    },
    {
     "data": {
      "text/plain": [
       "RandomizedSearchCV(cv=5, estimator=RandomForestClassifier(), n_iter=20,\n",
       "                   param_distributions={'max_depth': [None, 3, 5, 10],\n",
       "                                        'min_samples_leaf': array([ 1,  3,  5,  7,  9, 11, 13, 15, 17, 19]),\n",
       "                                        'min_samples_split': array([ 2,  4,  6,  8, 10, 12, 14, 16, 18]),\n",
       "                                        'n_estimators': array([ 10,  60, 110, 160, 210, 260, 310, 360, 410, 460, 510, 560, 610,\n",
       "       660, 710, 760, 810, 860, 910, 960])},\n",
       "                   verbose=True)"
      ]
     },
     "execution_count": 103,
     "metadata": {},
     "output_type": "execute_result"
    }
   ],
   "source": [
    "# Setup random seed\n",
    "np.random.seed(0)\n",
    "\n",
    "# Setup random Hyperparameter search for RandomForestClassifier\n",
    "rs_rf = RandomizedSearchCV(RandomForestClassifier(),\n",
    "                           param_distributions=rand_for_grid,\n",
    "                           cv=5,\n",
    "                           n_iter=20,\n",
    "                           verbose=True)\n",
    "\n",
    "# Fit random hyperprarmeter search model for RandomForestClassifier()\n",
    "rs_rf.fit(X_train, y_train)"
   ]
  },
  {
   "cell_type": "code",
   "execution_count": 104,
   "id": "a4d084fc",
   "metadata": {},
   "outputs": [
    {
     "data": {
      "text/plain": [
       "{'n_estimators': 360,\n",
       " 'min_samples_split': 8,\n",
       " 'min_samples_leaf': 5,\n",
       " 'max_depth': 10}"
      ]
     },
     "execution_count": 104,
     "metadata": {},
     "output_type": "execute_result"
    }
   ],
   "source": [
    "rs_rf.best_params_"
   ]
  },
  {
   "cell_type": "code",
   "execution_count": 105,
   "id": "be25e763",
   "metadata": {},
   "outputs": [
    {
     "data": {
      "text/plain": [
       "0.85"
      ]
     },
     "execution_count": 105,
     "metadata": {},
     "output_type": "execute_result"
    }
   ],
   "source": [
    "rs_rf.score(X_test, y_test)"
   ]
  },
  {
   "cell_type": "markdown",
   "id": "015772a3",
   "metadata": {},
   "source": [
    "**These scores are definetly a bit low, but keeping in mind the data was artifically altered it makes sense, further hyperparameter tunign can definetly help with increasing accuracy, but for now we will take 85%**"
   ]
  },
  {
   "cell_type": "markdown",
   "id": "0aff4ccc",
   "metadata": {},
   "source": [
    "## 5. Evaluating"
   ]
  },
  {
   "cell_type": "markdown",
   "id": "0d68b5eb",
   "metadata": {},
   "source": [
    "Now I will display some other evaluation metrics (besides accuracy which is the default)\n",
    "\n",
    "We will have a look at...\n",
    "* ROC curve and AUC score\n",
    "* Classification report\n",
    "* Precision\n",
    "* Recall\n",
    "* F1-score\n",
    "\n",
    "and some of these we will calculate using `cross-val_score()`"
   ]
  },
  {
   "cell_type": "code",
   "execution_count": 106,
   "id": "29cdbda7",
   "metadata": {},
   "outputs": [],
   "source": [
    "# Make predictions with tuned model\n",
    "y_preds = rs_log_reg.predict(X_test)"
   ]
  },
  {
   "cell_type": "code",
   "execution_count": 107,
   "id": "8955d9b8",
   "metadata": {},
   "outputs": [
    {
     "data": {
      "text/plain": [
       "array([0., 0., 1., 0., 0., 1., 0., 1., 0., 1., 1., 1., 1., 1., 1., 0., 0.,\n",
       "       1., 1., 1., 1., 0., 1., 0., 0., 0., 1., 0., 1., 0., 1., 0., 1., 1.,\n",
       "       1., 1., 1., 1., 1., 0., 1., 1., 0., 1., 1., 0., 1., 0., 1., 1., 0.,\n",
       "       0., 1., 0., 1., 0., 0., 1., 0., 1.])"
      ]
     },
     "execution_count": 107,
     "metadata": {},
     "output_type": "execute_result"
    }
   ],
   "source": [
    "y_preds"
   ]
  },
  {
   "cell_type": "code",
   "execution_count": 108,
   "id": "4bbadc25",
   "metadata": {},
   "outputs": [
    {
     "data": {
      "text/plain": [
       "235    0.0\n",
       "233    0.0\n",
       "15     1.0\n",
       "220    0.0\n",
       "269    0.0\n",
       "48     1.0\n",
       "243    0.0\n",
       "58     1.0\n",
       "218    0.0\n",
       "66     1.0\n",
       "302    0.0\n",
       "18     1.0\n",
       "149    1.0\n",
       "228    0.0\n",
       "25     1.0\n",
       "240    0.0\n",
       "224    0.0\n",
       "273    0.0\n",
       "69     1.0\n",
       "114    1.0\n",
       "55     1.0\n",
       "265    0.0\n",
       "67     1.0\n",
       "215    0.0\n",
       "284    0.0\n",
       "203    0.0\n",
       "84     1.0\n",
       "250    0.0\n",
       "286    0.0\n",
       "219    0.0\n",
       "10     1.0\n",
       "211    0.0\n",
       "119    1.0\n",
       "163    1.0\n",
       "121    1.0\n",
       "194    0.0\n",
       "7      1.0\n",
       "100    1.0\n",
       "104    1.0\n",
       "95     1.0\n",
       "259    0.0\n",
       "109    1.0\n",
       "195    0.0\n",
       "62     1.0\n",
       "9      1.0\n",
       "212    0.0\n",
       "77     1.0\n",
       "238    0.0\n",
       "106    1.0\n",
       "76     1.0\n",
       "176    0.0\n",
       "298    0.0\n",
       "29     1.0\n",
       "241    0.0\n",
       "93     1.0\n",
       "221    0.0\n",
       "274    0.0\n",
       "164    1.0\n",
       "295    0.0\n",
       "287    0.0\n",
       "Name: target, dtype: float64"
      ]
     },
     "execution_count": 108,
     "metadata": {},
     "output_type": "execute_result"
    }
   ],
   "source": [
    "y_test"
   ]
  },
  {
   "cell_type": "code",
   "execution_count": 109,
   "id": "94119e12",
   "metadata": {},
   "outputs": [
    {
     "data": {
      "image/png": "[encoded data removed]",
      "text/plain": [
       "<Figure size 432x288 with 1 Axes>"
      ]
     },
     "metadata": {
      "needs_background": "light"
     },
     "output_type": "display_data"
    }
   ],
   "source": [
    "# Plot ROC curve and calculate and calcuate the AUC metric (check below for explanation)\n",
    "\n",
    "# Ignore Future Deprication Warnings\n",
    "import warnings\n",
    "warnings.simplefilter(action='ignore', category=FutureWarning)\n",
    "\n",
    "# Plot ROC Curve\n",
    "plot_roc_curve(rs_log_reg, X_test, y_test);"
   ]
  },
  {
   "cell_type": "markdown",
   "id": "35a338c2",
   "metadata": {},
   "source": [
    "#### ROC Curve Explanation\n",
    "\n",
    "An ROC curve (receiver operating characteristic curve) is a graph shows the performance of a classification model. This curve plots True Positive Rate vs False Positive Rate. For more: https://developers.google.com/machine-learning/crash-course/classification/roc-and-auc\n",
    "\n",
    "#### AUC Explanation\n",
    "\n",
    "AUC stands for area under the curve so it is simply a measure of the area under the curve with 1.00 being max."
   ]
  },
  {
   "cell_type": "code",
   "execution_count": 110,
   "id": "e2dab8ab",
   "metadata": {},
   "outputs": [
    {
     "name": "stdout",
     "output_type": "stream",
     "text": [
      "              precision    recall  f1-score   support\n",
      "\n",
      "         0.0       0.96      0.77      0.86        31\n",
      "         1.0       0.80      0.97      0.88        29\n",
      "\n",
      "    accuracy                           0.87        60\n",
      "   macro avg       0.88      0.87      0.87        60\n",
      "weighted avg       0.88      0.87      0.87        60\n",
      "\n"
     ]
    }
   ],
   "source": [
    "# A classification Report shows the rest of the evaluation metrics.\n",
    "print(classification_report(y_test, y_preds))"
   ]
  },
  {
   "cell_type": "markdown",
   "id": "53ddeda6",
   "metadata": {},
   "source": [
    "### Calculate evaluation metrics using cross-validation\n",
    "\n",
    "I will calculate `accuracy`, `precision`, `recall`, and `f1-score` of our model using `cross_val_score()`\n",
    "\n",
    "We will first remind ourselves of the best_params for the Logistic Regression model."
   ]
  },
  {
   "cell_type": "code",
   "execution_count": 111,
   "id": "3c9566e0",
   "metadata": {},
   "outputs": [
    {
     "data": {
      "text/plain": [
       "{'solver': 'newton-cg', 'C': 0.23357214690901212}"
      ]
     },
     "execution_count": 111,
     "metadata": {},
     "output_type": "execute_result"
    }
   ],
   "source": [
    "# Best Parameters\n",
    "rs_log_reg.best_params_"
   ]
  },
  {
   "cell_type": "code",
   "execution_count": 112,
   "id": "0dae6ce1",
   "metadata": {},
   "outputs": [],
   "source": [
    "# Create a new classifier with best parameters \n",
    "clf = LogisticRegression(C=0.23357214690901212,\n",
    "                         solver=\"newton-cg\")"
   ]
  },
  {
   "cell_type": "markdown",
   "id": "5bea37d1",
   "metadata": {},
   "source": [
    "**We will use this defined classifier with `cross_val_score()` to calcultae the differnet metrics.**"
   ]
  },
  {
   "cell_type": "code",
   "execution_count": 113,
   "id": "98fbada0",
   "metadata": {},
   "outputs": [
    {
     "data": {
      "text/plain": [
       "0.8378531073446327"
      ]
     },
     "execution_count": 113,
     "metadata": {},
     "output_type": "execute_result"
    }
   ],
   "source": [
    "# Cross-validated accuracy\n",
    "cv_acc = cross_val_score(clf,\n",
    "                         X,\n",
    "                         y,\n",
    "                         cv=5,\n",
    "                         scoring=\"accuracy\")\n",
    "cv_acc = np.mean(cv_acc)\n",
    "cv_acc"
   ]
  },
  {
   "cell_type": "code",
   "execution_count": 114,
   "id": "a5212067",
   "metadata": {},
   "outputs": [
    {
     "data": {
      "text/plain": [
       "0.8197935397935397"
      ]
     },
     "execution_count": 114,
     "metadata": {},
     "output_type": "execute_result"
    }
   ],
   "source": [
    "# Cross-validated precision\n",
    "cv_precision = cross_val_score(clf,\n",
    "                         X,\n",
    "                         y,\n",
    "                         cv=5,\n",
    "                         scoring=\"precision\")\n",
    "cv_precision = np.mean(cv_precision)\n",
    "cv_precision"
   ]
  },
  {
   "cell_type": "code",
   "execution_count": 115,
   "id": "3f7401b6",
   "metadata": {},
   "outputs": [
    {
     "data": {
      "text/plain": [
       "0.9066287878787879"
      ]
     },
     "execution_count": 115,
     "metadata": {},
     "output_type": "execute_result"
    }
   ],
   "source": [
    "# Cross-validated recall\n",
    "cv_recall = cross_val_score(clf,\n",
    "                         X,\n",
    "                         y,\n",
    "                         cv=5,\n",
    "                         scoring=\"recall\")\n",
    "cv_recall = np.mean(cv_recall)\n",
    "cv_recall"
   ]
  },
  {
   "cell_type": "code",
   "execution_count": 116,
   "id": "37b00954",
   "metadata": {},
   "outputs": [
    {
     "data": {
      "text/plain": [
       "0.8600261063767475"
      ]
     },
     "execution_count": 116,
     "metadata": {},
     "output_type": "execute_result"
    }
   ],
   "source": [
    "# Cross-validated f1-score\n",
    "cv_f1 = cross_val_score(clf,\n",
    "                         X,\n",
    "                         y,\n",
    "                         cv=5,\n",
    "                         scoring=\"f1\")\n",
    "cv_f1 = np.mean(cv_f1)\n",
    "cv_f1"
   ]
  },
  {
   "cell_type": "markdown",
   "id": "ca087b62",
   "metadata": {},
   "source": [
    "**We have now gathered each of these different metrics, which we can now graph to compare more easily**"
   ]
  },
  {
   "cell_type": "code",
   "execution_count": 117,
   "id": "c918aed9",
   "metadata": {},
   "outputs": [
    {
     "data": {
      "image/png": "[encoded data removed]",
      "text/plain": [
       "<Figure size 432x288 with 1 Axes>"
      ]
     },
     "metadata": {
      "needs_background": "light"
     },
     "output_type": "display_data"
    }
   ],
   "source": [
    "# Visualize cross-validated metrics\n",
    "cv_metrics = pd.DataFrame({\"Accuracy\": cv_acc,\n",
    "                           \"Precision\": cv_precision,\n",
    "                           \"Recall\": cv_recall,\n",
    "                           \"F1\": cv_f1},\n",
    "                          index=[0])\n",
    "cv_metrics.T.plot.bar(title=\"Cross-validated calssification metrics\",\n",
    "                      legend=False);\n",
    "# From this we see Recall us our highest score"
   ]
  },
  {
   "cell_type": "markdown",
   "id": "9fa7f17f",
   "metadata": {},
   "source": [
    "## 6. Feature Importance\n",
    "\n",
    "We have now completed the entire model and will have a quick look at feature importnace.\n",
    "\n",
    "Feature importance is basically which parameters affected the outcome of the model the most."
   ]
  },
  {
   "cell_type": "code",
   "execution_count": 118,
   "id": "4440f15b",
   "metadata": {},
   "outputs": [],
   "source": [
    "# Fit an instance of LogisticRegression once again using the found best params\n",
    "clf = LogisticRegression(C=0.23357214690901212,\n",
    "                         solver=\"newton-cg\")\n",
    "clf.fit(X_train, y_train);"
   ]
  },
  {
   "cell_type": "code",
   "execution_count": 119,
   "id": "976308ba",
   "metadata": {},
   "outputs": [
    {
     "data": {
      "text/html": [
       "<div>\n",
       "<style scoped>\n",
       "    .dataframe tbody tr th:only-of-type {\n",
       "        vertical-align: middle;\n",
       "    }\n",
       "\n",
       "    .dataframe tbody tr th {\n",
       "        vertical-align: top;\n",
       "    }\n",
       "\n",
       "    .dataframe thead th {\n",
       "        text-align: right;\n",
       "    }\n",
       "</style>\n",
       "<table border=\"1\" class=\"dataframe\">\n",
       "  <thead>\n",
       "    <tr style=\"text-align: right;\">\n",
       "      <th></th>\n",
       "      <th>age</th>\n",
       "      <th>sex</th>\n",
       "      <th>cp</th>\n",
       "      <th>trestbps</th>\n",
       "      <th>chol</th>\n",
       "      <th>fbs</th>\n",
       "      <th>restecg</th>\n",
       "      <th>thalach</th>\n",
       "      <th>exang</th>\n",
       "      <th>oldpeak</th>\n",
       "      <th>slope</th>\n",
       "      <th>ca</th>\n",
       "      <th>thal</th>\n",
       "      <th>target</th>\n",
       "    </tr>\n",
       "  </thead>\n",
       "  <tbody>\n",
       "    <tr>\n",
       "      <th>0</th>\n",
       "      <td>63.0</td>\n",
       "      <td>1.0</td>\n",
       "      <td>3</td>\n",
       "      <td>145.0</td>\n",
       "      <td>233.0</td>\n",
       "      <td>1</td>\n",
       "      <td>0</td>\n",
       "      <td>150.0</td>\n",
       "      <td>0</td>\n",
       "      <td>2.3</td>\n",
       "      <td>0</td>\n",
       "      <td>0</td>\n",
       "      <td>1</td>\n",
       "      <td>1.0</td>\n",
       "    </tr>\n",
       "    <tr>\n",
       "      <th>1</th>\n",
       "      <td>37.0</td>\n",
       "      <td>1.0</td>\n",
       "      <td>2</td>\n",
       "      <td>130.0</td>\n",
       "      <td>250.0</td>\n",
       "      <td>0</td>\n",
       "      <td>1</td>\n",
       "      <td>187.0</td>\n",
       "      <td>0</td>\n",
       "      <td>3.5</td>\n",
       "      <td>0</td>\n",
       "      <td>0</td>\n",
       "      <td>2</td>\n",
       "      <td>1.0</td>\n",
       "    </tr>\n",
       "    <tr>\n",
       "      <th>2</th>\n",
       "      <td>41.0</td>\n",
       "      <td>0.0</td>\n",
       "      <td>1</td>\n",
       "      <td>131.0</td>\n",
       "      <td>204.0</td>\n",
       "      <td>0</td>\n",
       "      <td>0</td>\n",
       "      <td>172.0</td>\n",
       "      <td>0</td>\n",
       "      <td>1.4</td>\n",
       "      <td>2</td>\n",
       "      <td>0</td>\n",
       "      <td>2</td>\n",
       "      <td>1.0</td>\n",
       "    </tr>\n",
       "    <tr>\n",
       "      <th>3</th>\n",
       "      <td>56.0</td>\n",
       "      <td>1.0</td>\n",
       "      <td>1</td>\n",
       "      <td>120.0</td>\n",
       "      <td>236.0</td>\n",
       "      <td>0</td>\n",
       "      <td>1</td>\n",
       "      <td>178.0</td>\n",
       "      <td>0</td>\n",
       "      <td>0.8</td>\n",
       "      <td>2</td>\n",
       "      <td>0</td>\n",
       "      <td>2</td>\n",
       "      <td>1.0</td>\n",
       "    </tr>\n",
       "    <tr>\n",
       "      <th>6</th>\n",
       "      <td>56.0</td>\n",
       "      <td>0.0</td>\n",
       "      <td>1</td>\n",
       "      <td>140.0</td>\n",
       "      <td>294.0</td>\n",
       "      <td>0</td>\n",
       "      <td>0</td>\n",
       "      <td>153.0</td>\n",
       "      <td>0</td>\n",
       "      <td>1.3</td>\n",
       "      <td>1</td>\n",
       "      <td>0</td>\n",
       "      <td>2</td>\n",
       "      <td>1.0</td>\n",
       "    </tr>\n",
       "  </tbody>\n",
       "</table>\n",
       "</div>"
      ],
      "text/plain": [
       "    age  sex  cp  trestbps   chol  fbs  restecg  thalach  exang  oldpeak  \\\n",
       "0  63.0  1.0   3     145.0  233.0    1        0    150.0      0      2.3   \n",
       "1  37.0  1.0   2     130.0  250.0    0        1    187.0      0      3.5   \n",
       "2  41.0  0.0   1     131.0  204.0    0        0    172.0      0      1.4   \n",
       "3  56.0  1.0   1     120.0  236.0    0        1    178.0      0      0.8   \n",
       "6  56.0  0.0   1     140.0  294.0    0        0    153.0      0      1.3   \n",
       "\n",
       "   slope  ca  thal  target  \n",
       "0      0   0     1     1.0  \n",
       "1      0   0     2     1.0  \n",
       "2      2   0     2     1.0  \n",
       "3      2   0     2     1.0  \n",
       "6      1   0     2     1.0  "
      ]
     },
     "execution_count": 119,
     "metadata": {},
     "output_type": "execute_result"
    }
   ],
   "source": [
    "df.head()"
   ]
  },
  {
   "cell_type": "code",
   "execution_count": 120,
   "id": "dd9189d0",
   "metadata": {},
   "outputs": [
    {
     "data": {
      "text/plain": [
       "array([[ 0.01546096, -0.97670877,  0.75498436, -0.01775853, -0.00354206,\n",
       "        -0.09553394,  0.2700072 ,  0.02994258, -0.50401584, -0.41157966,\n",
       "         0.29026073, -0.64829223, -0.55712129]])"
      ]
     },
     "execution_count": 120,
     "metadata": {},
     "output_type": "execute_result"
    }
   ],
   "source": [
    "# Check coef_ array\n",
    "clf.coef_"
   ]
  },
  {
   "cell_type": "markdown",
   "id": "daea5a27",
   "metadata": {},
   "source": [
    "The coef_ contain the coefficients for the prediction of each of the targets. \n",
    "It is also the same as if you trained a model to predict each of the targets separately."
   ]
  },
  {
   "cell_type": "code",
   "execution_count": 121,
   "id": "82a3b787",
   "metadata": {},
   "outputs": [
    {
     "data": {
      "text/plain": [
       "{'age': 0.015460955473894982,\n",
       " 'sex': -0.9767087668323776,\n",
       " 'cp': 0.7549843633204715,\n",
       " 'trestbps': -0.017758528641054153,\n",
       " 'chol': -0.003542062686876112,\n",
       " 'fbs': -0.09553393950945198,\n",
       " 'restecg': 0.27000720099466924,\n",
       " 'thalach': 0.029942578879656335,\n",
       " 'exang': -0.5040158440812087,\n",
       " 'oldpeak': -0.4115796551782402,\n",
       " 'slope': 0.2902607296872448,\n",
       " 'ca': -0.648292231055928,\n",
       " 'thal': -0.5571212903082079}"
      ]
     },
     "execution_count": 121,
     "metadata": {},
     "output_type": "execute_result"
    }
   ],
   "source": [
    "# Match coef's of features to columns\n",
    "feature_dict = dict(zip(df.columns, list(clf.coef_[0])))\n",
    "feature_dict"
   ]
  },
  {
   "cell_type": "code",
   "execution_count": 122,
   "id": "08b2c6e6",
   "metadata": {},
   "outputs": [
    {
     "data": {
      "image/png": "[encoded data removed]",
      "text/plain": [
       "<Figure size 432x288 with 1 Axes>"
      ]
     },
     "metadata": {
      "needs_background": "light"
     },
     "output_type": "display_data"
    }
   ],
   "source": [
    "feature_df = pd.DataFrame(feature_dict, index=[0])\n",
    "feature_df.T.plot.bar(title=\"Feature Importance\", legend=False);"
   ]
  },
  {
   "cell_type": "markdown",
   "id": "3baa1359",
   "metadata": {},
   "source": [
    "Feature importance gives us a lot of insight into which parameters are useful, harmful, or useless to the model. In order to improve the model the harmful parameters can be removed from the dataset.\n",
    "\n",
    "**Positive feature importance:** A parameter that makes the loss go down. This means that the model is working with the parameter well.\n",
    "\n",
    "**Negative feature importance:** A parameter that makes the loss go up. This means that the model is not working with the parameter well."
   ]
  },
  {
   "cell_type": "markdown",
   "id": "5c59391b",
   "metadata": {},
   "source": [
    "# Summary"
   ]
  },
  {
   "cell_type": "markdown",
   "id": "8a63659d",
   "metadata": {},
   "source": [
    "In summary, we used a `LogisticRegression()` model to predict a heart disease classification problem. We reached a peak accuracy score of `86.67%`.  \n",
    "\n",
    "In order to imporve the model we can... use full dataset, hypertune further, remove harmful parameters."
   ]
  }
 ],
 "metadata": {
  "kernelspec": {
   "display_name": "Python 3 (ipykernel)",
   "language": "python",
   "name": "python3"
  },
  "language_info": {
   "codemirror_mode": {
    "name": "ipython",
    "version": 3
   },
   "file_extension": ".py",
   "mimetype": "text/x-python",
   "name": "python",
   "nbconvert_exporter": "python",
   "pygments_lexer": "ipython3",
   "version": "3.9.11"
  }
 },
 "nbformat": 4,
 "nbformat_minor": 5
}
